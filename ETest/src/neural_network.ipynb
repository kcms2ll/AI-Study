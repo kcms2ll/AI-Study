{
  "nbformat": 4,
  "nbformat_minor": 0,
  "metadata": {
    "colab": {
      "name": "neural_network.ipynb",
      "provenance": [],
      "collapsed_sections": [],
      "authorship_tag": "ABX9TyNYnQCHazHt0y2+2SLVFG63",
      "include_colab_link": true
    },
    "kernelspec": {
      "name": "python3",
      "display_name": "Python 3"
    },
    "language_info": {
      "name": "python"
    }
  },
  "cells": [
    {
      "cell_type": "markdown",
      "metadata": {
        "id": "view-in-github",
        "colab_type": "text"
      },
      "source": [
        "<a href=\"https://colab.research.google.com/github/kcms2ll/AI-Study/blob/main/ETest/src/neural_network.ipynb\" target=\"_parent\"><img src=\"https://colab.research.google.com/assets/colab-badge.svg\" alt=\"Open In Colab\"/></a>"
      ]
    },
    {
      "cell_type": "code",
      "metadata": {
        "colab": {
          "base_uri": "https://localhost:8080/"
        },
        "id": "p266VsCT4bkh",
        "outputId": "5a9b076f-28c2-41de-a1d0-e1ed86da684d"
      },
      "source": [
        "from google.colab import drive\n",
        "drive.mount('/content/drive')"
      ],
      "execution_count": 1,
      "outputs": [
        {
          "output_type": "stream",
          "name": "stdout",
          "text": [
            "Drive already mounted at /content/drive; to attempt to forcibly remount, call drive.mount(\"/content/drive\", force_remount=True).\n"
          ]
        }
      ]
    },
    {
      "cell_type": "code",
      "metadata": {
        "id": "AOy5bWLf_DAB"
      },
      "source": [
        "import sys\n",
        "sys.path.append('/content/drive/MyDrive/rabbit_challenge/DNN_code')\n",
        "import numpy as np\n",
        "import matplotlib.pyplot as plt\n",
        "from common import functions"
      ],
      "execution_count": 3,
      "outputs": []
    },
    {
      "cell_type": "markdown",
      "metadata": {
        "id": "hI52tZQX9-Ss"
      },
      "source": [
        "# 順伝播"
      ]
    },
    {
      "cell_type": "code",
      "metadata": {
        "id": "bznvzJkmX5fV"
      },
      "source": [
        "def print_vec(text, vec):\n",
        "    print(\"*** \" + text + \" ***\")\n",
        "    print(vec)\n",
        "    print(\"shape: \" + str(vec.shape))\n",
        "    print(\"\")"
      ],
      "execution_count": 4,
      "outputs": []
    },
    {
      "cell_type": "code",
      "metadata": {
        "colab": {
          "base_uri": "https://localhost:8080/"
        },
        "id": "rjF2VVd-88dN",
        "outputId": "6c854f7c-598e-4f5e-946a-9bfd15ab24da"
      },
      "source": [
        "# 重み\n",
        "W = np.array([[0.1],[0.2]])\n",
        "print_vec('重み', W)\n",
        "\n",
        "# バイアス\n",
        "b = np.array(0.5)\n",
        "print_vec('バイアス', b)\n",
        "\n",
        "# 入力値\n",
        "x = np.array([2, 3])\n",
        "print_vec('入力', x)\n",
        "\n",
        "# 総入力\n",
        "u = np.dot(x, W) + b\n",
        "print_vec('総入力', u)"
      ],
      "execution_count": 5,
      "outputs": [
        {
          "output_type": "stream",
          "name": "stdout",
          "text": [
            "*** 重み ***\n",
            "[[0.1]\n",
            " [0.2]]\n",
            "shape: (2, 1)\n",
            "\n",
            "*** バイアス ***\n",
            "0.5\n",
            "shape: ()\n",
            "\n",
            "*** 入力 ***\n",
            "[2 3]\n",
            "shape: (2,)\n",
            "\n",
            "*** 総入力 ***\n",
            "[1.3]\n",
            "shape: (1,)\n",
            "\n"
          ]
        }
      ]
    },
    {
      "cell_type": "markdown",
      "metadata": {
        "id": "wbzLtTmIAYSD"
      },
      "source": [
        "# 活性化関数"
      ]
    },
    {
      "cell_type": "code",
      "metadata": {
        "id": "lz7SbdJrBtnx"
      },
      "source": [
        "# ステップ関数\n",
        "def step_function(x):\n",
        "  if x > 0:\n",
        "    return 1\n",
        "  else:\n",
        "    return 0"
      ],
      "execution_count": 6,
      "outputs": []
    },
    {
      "cell_type": "code",
      "metadata": {
        "id": "4A6R_eLpCjTu"
      },
      "source": [
        "# シグモイド関数\n",
        "def sigmoid(x):\n",
        "  return 1/(1 + np.exp(-x))"
      ],
      "execution_count": 7,
      "outputs": []
    },
    {
      "cell_type": "code",
      "metadata": {
        "id": "e78huojKCz5A"
      },
      "source": [
        "def relu(x):\n",
        "  return np.maximum(0, x)"
      ],
      "execution_count": 8,
      "outputs": []
    },
    {
      "cell_type": "code",
      "metadata": {
        "colab": {
          "base_uri": "https://localhost:8080/",
          "height": 265
        },
        "id": "6mTsZyKVCgLX",
        "outputId": "e580f5f4-d81f-4f88-db1e-819310a72670"
      },
      "source": [
        "x = np.array(range(-1000, 1000))\n",
        "x = x/100\n",
        "y = [step_function(i) for i in x]\n",
        "\n",
        "plt.scatter(x, y, marker='.')\n",
        "plt.show()"
      ],
      "execution_count": 9,
      "outputs": [
        {
          "output_type": "display_data",
          "data": {
            "image/png": "[encoded data removed]",
            "text/plain": [
              "<Figure size 432x288 with 1 Axes>"
            ]
          },
          "metadata": {
            "needs_background": "light"
          }
        }
      ]
    },
    {
      "cell_type": "code",
      "metadata": {
        "colab": {
          "base_uri": "https://localhost:8080/",
          "height": 265
        },
        "id": "j25fApclDTlw",
        "outputId": "7f327f60-2753-4dd6-e1b1-c03e49c270a2"
      },
      "source": [
        "y = [sigmoid(i) for i in x]\n",
        "\n",
        "plt.scatter(x, y, marker='.')\n",
        "plt.show()"
      ],
      "execution_count": 10,
      "outputs": [
        {
          "output_type": "display_data",
          "data": {
            "image/png": "[encoded data removed]",
            "text/plain": [
              "<Figure size 432x288 with 1 Axes>"
            ]
          },
          "metadata": {
            "needs_background": "light"
          }
        }
      ]
    },
    {
      "cell_type": "code",
      "metadata": {
        "colab": {
          "base_uri": "https://localhost:8080/",
          "height": 265
        },
        "id": "aZjnqUMoAMw-",
        "outputId": "3298aebd-88be-4c02-beeb-9cf356bb097d"
      },
      "source": [
        "y = [relu(i) for i in x]\n",
        "\n",
        "plt.scatter(x, y, marker='.')\n",
        "plt.show()"
      ],
      "execution_count": 11,
      "outputs": [
        {
          "output_type": "display_data",
          "data": {
            "image/png": "[encoded data removed]",
            "text/plain": [
              "<Figure size 432x288 with 1 Axes>"
            ]
          },
          "metadata": {
            "needs_background": "light"
          }
        }
      ]
    },
    {
      "cell_type": "markdown",
      "metadata": {
        "id": "JJEemhv6Aaod"
      },
      "source": [
        "# 出力層"
      ]
    },
    {
      "cell_type": "markdown",
      "metadata": {
        "id": "gvvet8vkSnK4"
      },
      "source": [
        "## 交差エントロピー"
      ]
    },
    {
      "cell_type": "code",
      "metadata": {
        "id": "sW72oNTbAcLl"
      },
      "source": [
        "def cross_entropy_error(d, y):\n",
        "    if y.ndim == 1:\n",
        "        d = d.reshape(1, d.size)\n",
        "        y = y.reshape(1, y.size)\n",
        "\n",
        "    # 教師データがone-hot-vectorの場合、正解ラベルのインデックスに変換\n",
        "    if d.size == y.size:\n",
        "        d = d.argmax(axis=1)\n",
        "\n",
        "    batch_size = y.shape[0]\n",
        "    return -np.sum(np.log(y[np.arange(batch_size), d] + 1e-7)) / batch_size"
      ],
      "execution_count": 12,
      "outputs": []
    },
    {
      "cell_type": "markdown",
      "metadata": {
        "id": "-5ibUpllSqLT"
      },
      "source": [
        "## ソフトマックス"
      ]
    },
    {
      "cell_type": "code",
      "metadata": {
        "id": "oQKD6FaIStyR"
      },
      "source": [
        "def softmax(x):\n",
        "    if x.ndim == 2:\n",
        "        x = x.T\n",
        "        x = x - np.max(x, axis=0)\n",
        "        y = np.exp(x) / np.sum(np.exp(x), axis=0)\n",
        "        return y.T\n",
        "\n",
        "    x = x - np.max(x) # オーバーフロー対策\n",
        "    return np.exp(x) / np.sum(np.exp(x))"
      ],
      "execution_count": 13,
      "outputs": []
    },
    {
      "cell_type": "markdown",
      "metadata": {
        "id": "4G4dNIkXVUvE"
      },
      "source": [
        "## 平均二乗誤差"
      ]
    },
    {
      "cell_type": "code",
      "metadata": {
        "id": "QyzIxelqVTz7"
      },
      "source": [
        "def mean_squared_error(d, y):\n",
        "  return np.mean(np.sqare(d - y)) / 2"
      ],
      "execution_count": 14,
      "outputs": []
    },
    {
      "cell_type": "markdown",
      "metadata": {
        "id": "eupUo1yqAcuu"
      },
      "source": [
        "# 勾配降下法"
      ]
    },
    {
      "cell_type": "code",
      "metadata": {
        "id": "D9CQXbWzAeov"
      },
      "source": [
        "def gradient_descent():\n",
        "  for dataset in random_datasets:\n",
        "      x, d = dataset['x'], dataset['d']\n",
        "      z1, y = forward(network, x)\n",
        "      grad = backward(x, d, z1, y)\n",
        "      # パラメータに勾配適用\n",
        "      for key in ('W1', 'W2', 'b1', 'b2'):\n",
        "          network[key]  -= learning_rate * grad[key]\n",
        "\n",
        "      # 誤差\n",
        "      loss = functions.mean_squared_error(d, y)\n",
        "      losses.append(loss)"
      ],
      "execution_count": 15,
      "outputs": []
    },
    {
      "cell_type": "markdown",
      "metadata": {
        "id": "2j-rZ4XTAfMI"
      },
      "source": [
        "# 誤差逆伝播法"
      ]
    },
    {
      "cell_type": "code",
      "metadata": {
        "colab": {
          "base_uri": "https://localhost:8080/"
        },
        "id": "UTM0pGARAl7L",
        "outputId": "3ce0aa43-07f9-4a1a-def5-d0c5a4d5bbf8"
      },
      "source": [
        "# ウェイトとバイアスを設定\n",
        "# ネートワークを作成\n",
        "def init_network():\n",
        "    print(\"##### ネットワークの初期化 #####\")\n",
        "\n",
        "    network = {}\n",
        "    network['W1'] = np.array([\n",
        "        [0.1, 0.3, 0.5],\n",
        "        [0.2, 0.4, 0.6]\n",
        "    ])\n",
        "\n",
        "    network['W2'] = np.array([\n",
        "        [0.1, 0.4],\n",
        "        [0.2, 0.5],\n",
        "        [0.3, 0.6]\n",
        "    ])\n",
        "\n",
        "    network['b1'] = np.array([0.1, 0.2, 0.3])\n",
        "    network['b2'] = np.array([0.1, 0.2])\n",
        "    \n",
        "    print_vec(\"重み1\", network['W1'])\n",
        "    print_vec(\"重み2\", network['W2'])\n",
        "    print_vec(\"バイアス1\", network['b1'])\n",
        "    print_vec(\"バイアス2\", network['b2'])\n",
        "\n",
        "    return network\n",
        "\n",
        "# 順伝播\n",
        "def forward(network, x):\n",
        "    print(\"##### 順伝播開始 #####\")\n",
        "\n",
        "    W1, W2 = network['W1'], network['W2']\n",
        "    b1, b2 = network['b1'], network['b2']\n",
        "    \n",
        "    u1 = np.dot(x, W1) + b1\n",
        "    z1 = functions.relu(u1)\n",
        "    u2 = np.dot(z1, W2) + b2\n",
        "    y = functions.softmax(u2)\n",
        "    \n",
        "    print_vec(\"総入力1\", u1)\n",
        "    print_vec(\"中間層出力1\", z1)\n",
        "    print_vec(\"総入力2\", u2)\n",
        "    print_vec(\"出力1\", y)\n",
        "    print(\"出力合計: \" + str(np.sum(y)))\n",
        "\n",
        "    return y, z1\n",
        "\n",
        "# 誤差逆伝播\n",
        "def backward(x, d, z1, y):\n",
        "    print(\"\\n##### 誤差逆伝播開始 #####\")\n",
        "\n",
        "    grad = {}\n",
        "\n",
        "    W1, W2 = network['W1'], network['W2']\n",
        "    b1, b2 = network['b1'], network['b2']\n",
        "    #  出力層でのデルタ\n",
        "    delta2 = functions.d_sigmoid_with_loss(d, y)\n",
        "    #  b2の勾配\n",
        "    grad['b2'] = np.sum(delta2, axis=0)\n",
        "    #  W2の勾配\n",
        "    grad['W2'] = np.dot(z1.T, delta2)\n",
        "    #  中間層でのデルタ\n",
        "    delta1 = np.dot(delta2, W2.T) * functions.d_relu(z1)\n",
        "    # b1の勾配\n",
        "    grad['b1'] = np.sum(delta1, axis=0)\n",
        "    #  W1の勾配\n",
        "    grad['W1'] = np.dot(x.T, delta1)\n",
        "        \n",
        "    print_vec(\"偏微分_dE/du2\", delta2)\n",
        "    print_vec(\"偏微分_dE/du2\", delta1)\n",
        "\n",
        "    print_vec(\"偏微分_重み1\", grad[\"W1\"])\n",
        "    print_vec(\"偏微分_重み2\", grad[\"W2\"])\n",
        "    print_vec(\"偏微分_バイアス1\", grad[\"b1\"])\n",
        "    print_vec(\"偏微分_バイアス2\", grad[\"b2\"])\n",
        "\n",
        "    return grad\n",
        "    \n",
        "# 訓練データ\n",
        "x = np.array([[1.0, 5.0]])\n",
        "# 目標出力\n",
        "d = np.array([[0, 1]])\n",
        "#  学習率\n",
        "learning_rate = 0.01\n",
        "network =  init_network()\n",
        "y, z1 = forward(network, x)\n",
        "\n",
        "# 誤差\n",
        "loss = functions.cross_entropy_error(d, y)\n",
        "\n",
        "grad = backward(x, d, z1, y)\n",
        "for key in ('W1', 'W2', 'b1', 'b2'):\n",
        "    network[key]  -= learning_rate * grad[key]\n",
        "\n",
        "print(\"##### 結果表示 #####\")    \n",
        "\n",
        "\n",
        "print(\"##### 更新後パラメータ #####\") \n",
        "print_vec(\"重み1\", network['W1'])\n",
        "print_vec(\"重み2\", network['W2'])\n",
        "print_vec(\"バイアス1\", network['b1'])\n",
        "print_vec(\"バイアス2\", network['b2'])\n"
      ],
      "execution_count": 16,
      "outputs": [
        {
          "output_type": "stream",
          "name": "stdout",
          "text": [
            "##### ネットワークの初期化 #####\n",
            "*** 重み1 ***\n",
            "[[0.1 0.3 0.5]\n",
            " [0.2 0.4 0.6]]\n",
            "shape: (2, 3)\n",
            "\n",
            "*** 重み2 ***\n",
            "[[0.1 0.4]\n",
            " [0.2 0.5]\n",
            " [0.3 0.6]]\n",
            "shape: (3, 2)\n",
            "\n",
            "*** バイアス1 ***\n",
            "[0.1 0.2 0.3]\n",
            "shape: (3,)\n",
            "\n",
            "*** バイアス2 ***\n",
            "[0.1 0.2]\n",
            "shape: (2,)\n",
            "\n",
            "##### 順伝播開始 #####\n",
            "*** 総入力1 ***\n",
            "[[1.2 2.5 3.8]]\n",
            "shape: (1, 3)\n",
            "\n",
            "*** 中間層出力1 ***\n",
            "[[1.2 2.5 3.8]]\n",
            "shape: (1, 3)\n",
            "\n",
            "*** 総入力2 ***\n",
            "[[1.86 4.21]]\n",
            "shape: (1, 2)\n",
            "\n",
            "*** 出力1 ***\n",
            "[[0.08706577 0.91293423]]\n",
            "shape: (1, 2)\n",
            "\n",
            "出力合計: 1.0\n",
            "\n",
            "##### 誤差逆伝播開始 #####\n",
            "*** 偏微分_dE/du2 ***\n",
            "[[ 0.08706577 -0.08706577]]\n",
            "shape: (1, 2)\n",
            "\n",
            "*** 偏微分_dE/du2 ***\n",
            "[[-0.02611973 -0.02611973 -0.02611973]]\n",
            "shape: (1, 3)\n",
            "\n",
            "*** 偏微分_重み1 ***\n",
            "[[-0.02611973 -0.02611973 -0.02611973]\n",
            " [-0.13059866 -0.13059866 -0.13059866]]\n",
            "shape: (2, 3)\n",
            "\n",
            "*** 偏微分_重み2 ***\n",
            "[[ 0.10447893 -0.10447893]\n",
            " [ 0.21766443 -0.21766443]\n",
            " [ 0.33084994 -0.33084994]]\n",
            "shape: (3, 2)\n",
            "\n",
            "*** 偏微分_バイアス1 ***\n",
            "[-0.02611973 -0.02611973 -0.02611973]\n",
            "shape: (3,)\n",
            "\n",
            "*** 偏微分_バイアス2 ***\n",
            "[ 0.08706577 -0.08706577]\n",
            "shape: (2,)\n",
            "\n",
            "##### 結果表示 #####\n",
            "##### 更新後パラメータ #####\n",
            "*** 重み1 ***\n",
            "[[0.1002612  0.3002612  0.5002612 ]\n",
            " [0.20130599 0.40130599 0.60130599]]\n",
            "shape: (2, 3)\n",
            "\n",
            "*** 重み2 ***\n",
            "[[0.09895521 0.40104479]\n",
            " [0.19782336 0.50217664]\n",
            " [0.2966915  0.6033085 ]]\n",
            "shape: (3, 2)\n",
            "\n",
            "*** バイアス1 ***\n",
            "[0.1002612 0.2002612 0.3002612]\n",
            "shape: (3,)\n",
            "\n",
            "*** バイアス2 ***\n",
            "[0.09912934 0.20087066]\n",
            "shape: (2,)\n",
            "\n"
          ]
        }
      ]
    },
    {
      "cell_type": "code",
      "metadata": {
        "id": "mTBGdYJnUC7y"
      },
      "source": [
        ""
      ],
      "execution_count": null,
      "outputs": []
    }
  ]
}